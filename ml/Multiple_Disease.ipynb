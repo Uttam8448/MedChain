{
 "cells": [
  {
   "cell_type": "code",
   "execution_count": 6,
   "id": "3b1decfb",
   "metadata": {},
   "outputs": [],
   "source": [
    "import pandas as pd\n",
    "import numpy as np\n",
    "from sklearn.model_selection import train_test_split\n",
    "from sklearn.preprocessing import StandardScaler, LabelEncoder\n",
    "from sklearn.ensemble import RandomForestClassifier\n",
    "from sklearn.metrics import accuracy_score, classification_report\n",
    "import warnings\n",
    "warnings.filterwarnings('ignore')\n"
   ]
  },
  {
   "cell_type": "code",
   "execution_count": 7,
   "id": "65535c51",
   "metadata": {},
   "outputs": [],
   "source": [
    "diabetes_df = pd.read_csv(\"diabetes.csv\")"
   ]
  },
  {
   "cell_type": "code",
   "execution_count": 8,
   "id": "986996bf",
   "metadata": {},
   "outputs": [],
   "source": [
    "# Separate features and target\n",
    "X_diabetes = diabetes_df.drop('Outcome', axis=1)\n",
    "y_diabetes = diabetes_df['Outcome']\n",
    "diabetes_features = X_diabetes.columns.tolist()"
   ]
  },
  {
   "cell_type": "code",
   "execution_count": 9,
   "id": "5bac7bc1",
   "metadata": {},
   "outputs": [],
   "source": [
    "# Scale\n",
    "scaler_diabetes = StandardScaler()\n",
    "X_diabetes_scaled = scaler_diabetes.fit_transform(X_diabetes)\n"
   ]
  },
  {
   "cell_type": "code",
   "execution_count": 10,
   "id": "480ecfaf",
   "metadata": {},
   "outputs": [
    {
     "data": {
      "text/plain": [
       "RandomForestClassifier(random_state=42)"
      ]
     },
     "execution_count": 10,
     "metadata": {},
     "output_type": "execute_result"
    }
   ],
   "source": [
    "# Split and train\n",
    "X_d_train, X_d_test, y_d_train, y_d_test = train_test_split(X_diabetes_scaled, y_diabetes, test_size=0.2, random_state=42)\n",
    "diabetes_model = RandomForestClassifier(n_estimators=100, random_state=42)\n",
    "diabetes_model.fit(X_d_train, y_d_train)"
   ]
  },
  {
   "cell_type": "code",
   "execution_count": 11,
   "id": "ca40a3cd",
   "metadata": {},
   "outputs": [
    {
     "name": "stdout",
     "output_type": "stream",
     "text": [
      "🩺 Diabetes Model Accuracy: 0.7272727272727273\n",
      "              precision    recall  f1-score   support\n",
      "\n",
      "           0       0.79      0.79      0.79        99\n",
      "           1       0.62      0.62      0.62        55\n",
      "\n",
      "    accuracy                           0.73       154\n",
      "   macro avg       0.70      0.70      0.70       154\n",
      "weighted avg       0.73      0.73      0.73       154\n",
      "\n"
     ]
    }
   ],
   "source": [
    "# Evaluate\n",
    "y_d_pred = diabetes_model.predict(X_d_test)\n",
    "print(\"🩺 Diabetes Model Accuracy:\", accuracy_score(y_d_test, y_d_pred))\n",
    "print(classification_report(y_d_test, y_d_pred))"
   ]
  },
  {
   "cell_type": "code",
   "execution_count": 12,
   "id": "adea7d94",
   "metadata": {},
   "outputs": [],
   "source": [
    "# Load heart data\n",
    "heart_df = pd.read_csv(r\"heart.csv\")"
   ]
  },
  {
   "cell_type": "code",
   "execution_count": 13,
   "id": "11909329",
   "metadata": {},
   "outputs": [],
   "source": [
    "# Encode categorical columns\n",
    "categorical_cols = [\"Sex\", \"ChestPainType\", \"RestingECG\", \"ExerciseAngina\", \"ST_Slope\"]\n",
    "label_encoders = {}\n",
    "for col in categorical_cols:\n",
    "    le = LabelEncoder()\n",
    "    heart_df[col] = le.fit_transform(heart_df[col])\n",
    "    label_encoders[col] = le"
   ]
  },
  {
   "cell_type": "code",
   "execution_count": 14,
   "id": "bafa3005",
   "metadata": {},
   "outputs": [],
   "source": [
    "# Separate features and target\n",
    "X_heart = heart_df.drop(\"HeartDisease\", axis=1)\n",
    "y_heart = heart_df[\"HeartDisease\"]\n",
    "heart_features = X_heart.columns.tolist()"
   ]
  },
  {
   "cell_type": "code",
   "execution_count": 15,
   "id": "3da90c40",
   "metadata": {},
   "outputs": [],
   "source": [
    "# Scale\n",
    "scaler_heart = StandardScaler()\n",
    "X_heart_scaled = scaler_heart.fit_transform(X_heart)"
   ]
  },
  {
   "cell_type": "code",
   "execution_count": 16,
   "id": "0c098dcb",
   "metadata": {},
   "outputs": [
    {
     "data": {
      "text/plain": [
       "RandomForestClassifier(random_state=42)"
      ]
     },
     "execution_count": 16,
     "metadata": {},
     "output_type": "execute_result"
    }
   ],
   "source": [
    "# Split and train\n",
    "X_h_train, X_h_test, y_h_train, y_h_test = train_test_split(X_heart_scaled, y_heart, test_size=0.2, random_state=42)\n",
    "heart_model = RandomForestClassifier(n_estimators=100, random_state=42)\n",
    "heart_model.fit(X_h_train, y_h_train)"
   ]
  },
  {
   "cell_type": "code",
   "execution_count": 17,
   "id": "6fdf41bc",
   "metadata": {},
   "outputs": [
    {
     "name": "stdout",
     "output_type": "stream",
     "text": [
      "❤️ Heart Disease Model Accuracy: 0.8804347826086957\n",
      "              precision    recall  f1-score   support\n",
      "\n",
      "           0       0.86      0.86      0.86        77\n",
      "           1       0.90      0.90      0.90       107\n",
      "\n",
      "    accuracy                           0.88       184\n",
      "   macro avg       0.88      0.88      0.88       184\n",
      "weighted avg       0.88      0.88      0.88       184\n",
      "\n"
     ]
    }
   ],
   "source": [
    "# Evaluate\n",
    "y_h_pred = heart_model.predict(X_h_test)\n",
    "print(\"❤️ Heart Disease Model Accuracy:\", accuracy_score(y_h_test, y_h_pred))\n",
    "print(classification_report(y_h_test, y_h_pred))"
   ]
  },
  {
   "cell_type": "code",
   "execution_count": 18,
   "id": "02f7641e",
   "metadata": {},
   "outputs": [],
   "source": [
    "# Load anemia data\n",
    "anemia_df = pd.read_csv(r\"anemia.csv\")\n",
    "anemia_df.dropna(inplace=True)"
   ]
  },
  {
   "cell_type": "code",
   "execution_count": 19,
   "id": "3b74af33",
   "metadata": {},
   "outputs": [],
   "source": [
    "# Target column is 'Result'\n",
    "X_anemia = anemia_df.drop('Result', axis=1)\n",
    "y_anemia = anemia_df['Result']\n",
    "anemia_features = X_anemia.columns.tolist()"
   ]
  },
  {
   "cell_type": "code",
   "execution_count": 20,
   "id": "60edd21e",
   "metadata": {},
   "outputs": [],
   "source": [
    "# Scale\n",
    "scaler_anemia = StandardScaler()\n",
    "X_anemia_scaled = scaler_anemia.fit_transform(X_anemia)"
   ]
  },
  {
   "cell_type": "code",
   "execution_count": 21,
   "id": "5316158f",
   "metadata": {},
   "outputs": [
    {
     "data": {
      "text/plain": [
       "RandomForestClassifier(random_state=42)"
      ]
     },
     "execution_count": 21,
     "metadata": {},
     "output_type": "execute_result"
    }
   ],
   "source": [
    "# Split and train\n",
    "X_a_train, X_a_test, y_a_train, y_a_test = train_test_split(X_anemia_scaled, y_anemia, test_size=0.2, random_state=42)\n",
    "anemia_model = RandomForestClassifier(n_estimators=100, random_state=42)\n",
    "anemia_model.fit(X_a_train, y_a_train)"
   ]
  },
  {
   "cell_type": "code",
   "execution_count": 22,
   "id": "430fdcd7",
   "metadata": {},
   "outputs": [
    {
     "name": "stdout",
     "output_type": "stream",
     "text": [
      "🩸 Anemia Model Accuracy: 1.0\n",
      "              precision    recall  f1-score   support\n",
      "\n",
      "           0       1.00      1.00      1.00       157\n",
      "           1       1.00      1.00      1.00       128\n",
      "\n",
      "    accuracy                           1.00       285\n",
      "   macro avg       1.00      1.00      1.00       285\n",
      "weighted avg       1.00      1.00      1.00       285\n",
      "\n"
     ]
    }
   ],
   "source": [
    "# Evaluate\n",
    "y_a_pred = anemia_model.predict(X_a_test)\n",
    "print(\"🩸 Anemia Model Accuracy:\", accuracy_score(y_a_test, y_a_pred))\n",
    "print(classification_report(y_a_test, y_a_pred))"
   ]
  },
  {
   "cell_type": "code",
   "execution_count": 23,
   "id": "184a4ef6",
   "metadata": {},
   "outputs": [],
   "source": [
    "def predict_all(user_diabetes_input, user_heart_input, user_anemia_input):\n",
    "    if len(user_diabetes_input) != len(diabetes_features):\n",
    "        raise ValueError(f\"Diabetes input must be {len(diabetes_features)} features: {diabetes_features}\")\n",
    "    if len(user_heart_input) != len(heart_features):\n",
    "        raise ValueError(f\"Heart input must be {len(heart_features)} features: {heart_features}\")\n",
    "    if len(user_anemia_input) != len(anemia_features):\n",
    "        raise ValueError(f\"Anemia input must be {len(anemia_features)} features: {anemia_features}\")\n",
    "\n",
    "    # Scale inputs\n",
    "    d_scaled = scaler_diabetes.transform([user_diabetes_input])\n",
    "    h_scaled = scaler_heart.transform([user_heart_input])\n",
    "    a_scaled = scaler_anemia.transform([user_anemia_input])\n",
    "\n",
    "    # Predictions\n",
    "    d_pred = diabetes_model.predict(d_scaled)[0]\n",
    "    h_pred = heart_model.predict(h_scaled)[0]\n",
    "    a_pred = anemia_model.predict(a_scaled)[0]\n",
    "\n",
    "    print(\"🔬 Unified Health Predictions:\")\n",
    "    print(f\"🩺 Diabetes Risk: {'Positive' if d_pred == 1 else 'Negative'}\")\n",
    "    print(f\"❤️ Heart Disease Risk: {'Positive' if h_pred == 1 else 'Negative'}\")\n",
    "    print(f\"🩸 Anemia Risk: {'Positive' if a_pred == 1 else 'Negative'}\")"
   ]
  },
  {
   "cell_type": "code",
   "execution_count": 1,
   "id": "effe5443",
   "metadata": {},
   "outputs": [
    {
     "ename": "NameError",
     "evalue": "name 'diabetes_features' is not defined",
     "output_type": "error",
     "traceback": [
      "\u001b[1;31m---------------------------------------------------------------------------\u001b[0m",
      "\u001b[1;31mNameError\u001b[0m                                 Traceback (most recent call last)",
      "\u001b[1;32m~\\AppData\\Local\\Temp/ipykernel_38552/1640664054.py\u001b[0m in \u001b[0;36m<module>\u001b[1;34m\u001b[0m\n\u001b[0;32m      1\u001b[0m \u001b[1;31m# Use this after printing the feature names to match correctly\u001b[0m\u001b[1;33m\u001b[0m\u001b[1;33m\u001b[0m\u001b[0m\n\u001b[1;32m----> 2\u001b[1;33m \u001b[0mprint\u001b[0m\u001b[1;33m(\u001b[0m\u001b[1;34m\"Diabetes features:\"\u001b[0m\u001b[1;33m,\u001b[0m \u001b[0mdiabetes_features\u001b[0m\u001b[1;33m)\u001b[0m\u001b[1;33m\u001b[0m\u001b[1;33m\u001b[0m\u001b[0m\n\u001b[0m\u001b[0;32m      3\u001b[0m \u001b[0mprint\u001b[0m\u001b[1;33m(\u001b[0m\u001b[1;34m\"Heart features:\"\u001b[0m\u001b[1;33m,\u001b[0m \u001b[0mheart_features\u001b[0m\u001b[1;33m)\u001b[0m\u001b[1;33m\u001b[0m\u001b[1;33m\u001b[0m\u001b[0m\n\u001b[0;32m      4\u001b[0m \u001b[0mprint\u001b[0m\u001b[1;33m(\u001b[0m\u001b[1;34m\"Anemia features:\"\u001b[0m\u001b[1;33m,\u001b[0m \u001b[0manemia_features\u001b[0m\u001b[1;33m)\u001b[0m\u001b[1;33m\u001b[0m\u001b[1;33m\u001b[0m\u001b[0m\n\u001b[0;32m      5\u001b[0m \u001b[1;33m\u001b[0m\u001b[0m\n",
      "\u001b[1;31mNameError\u001b[0m: name 'diabetes_features' is not defined"
     ]
    }
   ],
   "source": [
    "# Use this after printing the feature names to match correctly\n",
    "print(\"Diabetes features:\", diabetes_features)\n",
    "print(\"Heart features:\", heart_features)\n",
    "print(\"Anemia features:\", anemia_features)\n",
    "\n",
    "# Replace the values below to match actual feature order and ranges\n",
    "sample_diabetes = [2, 120, 72, 35, 100, 32.0, 0.4, 80]\n",
    "sample_heart = [56, 1, 2, 130, 220, 0, 1, 140, 0, 1.0, 2]\n",
    "sample_anemia = [0, 9, 21.5, 29.6, 71.2]  # Adjust if needed\n",
    "\n",
    "predict_all(sample_diabetes, sample_heart, sample_anemia)"
   ]
  },
  {
   "cell_type": "code",
   "execution_count": null,
   "id": "63bd0b72",
   "metadata": {},
   "outputs": [],
   "source": []
  }
 ],
 "metadata": {
  "kernelspec": {
   "display_name": "Python 3",
   "language": "python",
   "name": "python3"
  },
  "language_info": {
   "codemirror_mode": {
    "name": "ipython",
    "version": 3
   },
   "file_extension": ".py",
   "mimetype": "text/x-python",
   "name": "python",
   "nbconvert_exporter": "python",
   "pygments_lexer": "ipython3",
   "version": "3.9.7"
  }
 },
 "nbformat": 4,
 "nbformat_minor": 5
}
